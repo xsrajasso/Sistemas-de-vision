{
  "cells": [
    {
      "cell_type": "markdown",
      "metadata": {
        "id": "7WsATeV2iDU7"
      },
      "source": [
        "## **Sistemas de Visión practica #7**\n",
        "Deteccion de lineas y circulos"
      ]
    },
    {
      "cell_type": "code",
      "execution_count": null,
      "metadata": {
        "id": "9g8heXrlUA2e"
      },
      "outputs": [],
      "source": [
        "# Nuestra configuración inicial, importamos las librearias a utilizar, creamos\n",
        "#nuestra funcion para mostras imagenes y descargamos las imagenes a utilizar\n",
        "import cv2\n",
        "import numpy as np\n",
        "from matplotlib import pyplot as plt\n",
        "\n",
        "# Definimos nuestra funcion\n",
        "def imshow(title = \"Image\", image = None, size = 10):\n",
        "    w, h = image.shape[0], image.shape[1]\n",
        "    aspect_ratio = w/h\n",
        "    plt.figure(figsize=(size * aspect_ratio,size))\n",
        "    plt.imshow(cv2.cvtColor(image, cv2.COLOR_BGR2RGB))\n",
        "    plt.title(title)\n",
        "    plt.show()\n",
        "\n",
        "# Descargamos y descomprimimos nuestras imagenes\n",
        "!wget https://moderncomputervision.s3.eu-west-2.amazonaws.com/images.zip\n",
        "!unzip -qq images.zip"
      ]
    },
    {
      "cell_type": "markdown",
      "metadata": {
        "id": "pRage34MiSB7"
      },
      "source": [
        "*Detección de lineas*"
      ]
    },
    {
      "cell_type": "code",
      "execution_count": null,
      "metadata": {
        "id": "ZiR3_4SzSZnB"
      },
      "outputs": [],
      "source": [
        "image = cv2.imread('images/soduku.jpg')\n",
        "imshow('Original', image)\n",
        "\n",
        "# Convertimos a escalas de grises y aplicamos filtro canny\n",
        "gray = cv2.cvtColor(image, cv2.COLOR_BGR2GRAY)\n",
        "edges = cv2.Canny(gray, 100, 170, apertureSize = 3)\n",
        "\n",
        "# Asignamos a rho 1 pixel de exactitud\n",
        "# Asignamos a theta pi/180 de exactitud\n",
        "# Nuestro umbral de linea se pone a 240 (el numero de puntos en nuestra linea)\n",
        "lines = cv2.HoughLines(edges, 1, np.pi / 180, 240)\n",
        "\n",
        "# Iteramos en todas las lineas y convertimos al formato requerido por el comando\n",
        "#cv2.line (punto inicial y final)\n",
        "\n",
        "for line in lines:\n",
        "    rho, theta = line[0]\n",
        "    a = np.cos(theta)\n",
        "    b = np.sin(theta)\n",
        "    x0 = a * rho\n",
        "    y0 = b * rho\n",
        "    x1 = int(x0 + 1000 * (-b))\n",
        "    y1 = int(y0 + 1000 * (a))\n",
        "    x2 = int(x0 - 1000 * (-b))\n",
        "    y2 = int(y0 - 1000 * (a))\n",
        "    cv2.line(image, (x1, y1), (x2, y2), (255, 0, 0), 2)\n",
        "\n",
        "imshow('Filtro Canny', edges)\n",
        "imshow('Hough Lines', image)"
      ]
    },
    {
      "cell_type": "markdown",
      "metadata": {
        "id": "QPg71Y41id0K"
      },
      "source": [
        "*Detección de circulos*"
      ]
    },
    {
      "cell_type": "code",
      "execution_count": null,
      "metadata": {
        "id": "r7JOc4wxUaX5"
      },
      "outputs": [],
      "source": [
        "!wget https://raw.githubusercontent.com/rajeevratan84/ModernComputerVision/main/Circles_Packed_In_Square_11.jpeg\n",
        "image = cv2.imread('Circles_Packed_In_Square_11.jpeg')\n",
        "imshow('Circles', image)\n",
        "gray = cv2.cvtColor(image, cv2.COLOR_BGR2GRAY)\n",
        "\n",
        "blur = cv2.medianBlur(gray, 5)\n",
        "\n",
        "circles = cv2.HoughCircles(blur, cv2.HOUGH_GRADIENT, 1.2, 25)\n",
        "\n",
        "cv2.HoughCircles(gray, cv2.HOUGH_GRADIENT, 1.2, 100)\n",
        "\n",
        "circles = np.uint16(np.around(circles))\n",
        "\n",
        "for i in circles[0,:]:\n",
        "    # Dibujamos circulo externo \n",
        "    cv2.circle(image,(i[0], i[1]), i[2], (0, 0, 255), 5)\n",
        "    \n",
        "    # Dibujamos circulo intero\n",
        "    cv2.circle(image, (i[0], i[1]), 2, (255, 0, 0), 8)\n",
        "\n",
        "imshow('Detected circles', image)"
      ]
    }
  ],
  "metadata": {
    "colab": {
      "provenance": []
    },
    "kernelspec": {
      "display_name": "Python 3",
      "name": "python3"
    },
    "language_info": {
      "name": "python"
    }
  },
  "nbformat": 4,
  "nbformat_minor": 0
}
